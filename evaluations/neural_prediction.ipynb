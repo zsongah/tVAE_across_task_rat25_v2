{
 "cells": [
  {
   "cell_type": "code",
   "execution_count": 1,
   "metadata": {},
   "outputs": [],
   "source": [
    "import torch\n",
    "import sys\n",
    "import os\n",
    "sys.path.append(os.path.abspath(os.path.join(os.getcwd(), '..'))) # 将上层目录添加到 Python 路径\n",
    "from configs.config import get_config\n",
    "from data.dataset import Dataset  \n",
    "from runners import stVAE_runner"
   ]
  },
  {
   "cell_type": "code",
   "execution_count": 2,
   "metadata": {},
   "outputs": [
    {
     "ename": "FileNotFoundError",
     "evalue": "[Errno 2] No such file or directory: 'configs/stVAE.yaml'",
     "output_type": "error",
     "traceback": [
      "\u001b[0;31m---------------------------------------------------------------------------\u001b[0m",
      "\u001b[0;31mFileNotFoundError\u001b[0m                         Traceback (most recent call last)",
      "Cell \u001b[0;32mIn[2], line 16\u001b[0m\n\u001b[1;32m     14\u001b[0m \u001b[38;5;28;01mfor\u001b[39;00m model_file, model_name \u001b[38;5;129;01min\u001b[39;00m \u001b[38;5;28mzip\u001b[39m(model_files, model_names):\n\u001b[1;32m     15\u001b[0m     config_file \u001b[38;5;241m=\u001b[39m model_name\n\u001b[0;32m---> 16\u001b[0m     config_2mc \u001b[38;5;241m=\u001b[39m get_config(config_file, [\n\u001b[1;32m     17\u001b[0m             \u001b[38;5;124m'\u001b[39m\u001b[38;5;124mDATA.RAT\u001b[39m\u001b[38;5;124m'\u001b[39m, rat,\n\u001b[1;32m     18\u001b[0m             \u001b[38;5;124m'\u001b[39m\u001b[38;5;124mDATA.TASK\u001b[39m\u001b[38;5;124m'\u001b[39m, task_2mc,\n\u001b[1;32m     19\u001b[0m             \u001b[38;5;124m'\u001b[39m\u001b[38;5;124mDATA.DAY\u001b[39m\u001b[38;5;124m'\u001b[39m, day_2mc, \u001b[38;5;66;03m# can not use number_number \u001b[39;00m\n\u001b[1;32m     20\u001b[0m             \u001b[38;5;124m'\u001b[39m\u001b[38;5;124mDATA.TEST_FOLD\u001b[39m\u001b[38;5;124m'\u001b[39m, test_fold,\n\u001b[1;32m     21\u001b[0m             \u001b[38;5;124m'\u001b[39m\u001b[38;5;124mMODEL.LATENT_DIM\u001b[39m\u001b[38;5;124m'\u001b[39m, latent_dim,\n\u001b[1;32m     22\u001b[0m         ])\n\u001b[1;32m     23\u001b[0m     dataset_2mc \u001b[38;5;241m=\u001b[39m Dataset(config_2mc, rat, day_2mc, task_2mc, test_fold, device)\n\u001b[1;32m     24\u001b[0m     checkpoint \u001b[38;5;241m=\u001b[39m torch\u001b[38;5;241m.\u001b[39mload(model_file,map_location\u001b[38;5;241m=\u001b[39mdevice)\n",
      "File \u001b[0;32m~/tVAE_across_task_rat25_v2/configs/config.py:43\u001b[0m, in \u001b[0;36mget_config\u001b[0;34m(config_paths, opts)\u001b[0m\n\u001b[1;32m     40\u001b[0m             config_paths \u001b[38;5;241m=\u001b[39m [config_paths]\n\u001b[1;32m     42\u001b[0m     \u001b[38;5;28;01mfor\u001b[39;00m config_path \u001b[38;5;129;01min\u001b[39;00m config_paths:\n\u001b[0;32m---> 43\u001b[0m         config\u001b[38;5;241m.\u001b[39mmerge_from_file(DEFAULT_CONFIG_DIR \u001b[38;5;241m+\u001b[39m config_path \u001b[38;5;241m+\u001b[39m \u001b[38;5;124m'\u001b[39m\u001b[38;5;124m.yaml\u001b[39m\u001b[38;5;124m'\u001b[39m)\n\u001b[1;32m     45\u001b[0m \u001b[38;5;28;01mif\u001b[39;00m opts:\n\u001b[1;32m     46\u001b[0m     \u001b[38;5;66;03m# for i in range(0, len(opts), 2):\u001b[39;00m\n\u001b[1;32m     47\u001b[0m     \u001b[38;5;66;03m#     key, value = opts[i], opts[i + 1]\u001b[39;00m\n\u001b[1;32m     48\u001b[0m     \u001b[38;5;66;03m#     print(f\"Config option: {key} = {value} ({type(value)})\")\u001b[39;00m\n\u001b[1;32m     49\u001b[0m     config\u001b[38;5;241m.\u001b[39mmerge_from_list(opts)\n",
      "File \u001b[0;32m~/.conda/envs/transformer/lib/python3.11/site-packages/yacs/config.py:211\u001b[0m, in \u001b[0;36mCfgNode.merge_from_file\u001b[0;34m(self, cfg_filename)\u001b[0m\n\u001b[1;32m    209\u001b[0m \u001b[38;5;28;01mdef\u001b[39;00m \u001b[38;5;21mmerge_from_file\u001b[39m(\u001b[38;5;28mself\u001b[39m, cfg_filename):\n\u001b[1;32m    210\u001b[0m \u001b[38;5;250m    \u001b[39m\u001b[38;5;124;03m\"\"\"Load a yaml config file and merge it this CfgNode.\"\"\"\u001b[39;00m\n\u001b[0;32m--> 211\u001b[0m     \u001b[38;5;28;01mwith\u001b[39;00m \u001b[38;5;28mopen\u001b[39m(cfg_filename, \u001b[38;5;124m\"\u001b[39m\u001b[38;5;124mr\u001b[39m\u001b[38;5;124m\"\u001b[39m) \u001b[38;5;28;01mas\u001b[39;00m f:\n\u001b[1;32m    212\u001b[0m         cfg \u001b[38;5;241m=\u001b[39m \u001b[38;5;28mself\u001b[39m\u001b[38;5;241m.\u001b[39mload_cfg(f)\n\u001b[1;32m    213\u001b[0m     \u001b[38;5;28mself\u001b[39m\u001b[38;5;241m.\u001b[39mmerge_from_other_cfg(cfg)\n",
      "\u001b[0;31mFileNotFoundError\u001b[0m: [Errno 2] No such file or directory: 'configs/stVAE.yaml'"
     ]
    }
   ],
   "source": [
    "rat = '025'\n",
    "latent_dim = 6\n",
    "task_1mc = '1MC'\n",
    "task_2mc = '2MC'\n",
    "day_1mc = '2020-07-16'\n",
    "day_2mc = '2020-10-05'\n",
    "test_fold = 0  \n",
    "load_file_prefix = f'{rat}_{task_1mc}_{day_1mc}_{test_fold}fold_' \\\n",
    "                f'{latent_dim}latent_' # task MC1 settings\n",
    "device = torch.device(\"cuda\" if torch.cuda.is_available() else \"cpu\")\n",
    "model_names = ['stVAE'] # 用于添加结果\n",
    "model_files = [f'{load_file_prefix}{model_name}.pth' for model_name in model_names] \n",
    "model_results = {name: {'result_train': None, 'result_test': None} for name in model_names}\n",
    "for model_file, model_name in zip(model_files, model_names):\n",
    "    config_file = model_name\n",
    "    config_2mc = get_config(config_file, [\n",
    "            'DATA.RAT', rat,\n",
    "            'DATA.TASK', task_2mc,\n",
    "            'DATA.DAY', day_2mc, # can not use number_number \n",
    "            'DATA.TEST_FOLD', test_fold,\n",
    "            'MODEL.LATENT_DIM', latent_dim,\n",
    "        ])\n",
    "    dataset_2mc = Dataset(config_2mc, rat, day_2mc, task_2mc, test_fold, device)\n",
    "    checkpoint = torch.load(model_file,map_location=device)\n",
    "    if model_name == 'stVAE':\n",
    "        runner = stVAE_runner(config_2mc, dataset_2mc, device) \n",
    "    runner.model.load_state_dict(checkpoint['model_state_dict'])\n",
    "    runner.model.eval()\n",
    "    result_test = runner.evaluate()\n",
    "    model_results[model_name]['result_test'] = result_test"
   ]
  }
 ],
 "metadata": {
  "kernelspec": {
   "display_name": "Python 3",
   "language": "python",
   "name": "python3"
  },
  "language_info": {
   "codemirror_mode": {
    "name": "ipython",
    "version": 3
   },
   "file_extension": ".py",
   "mimetype": "text/x-python",
   "name": "python",
   "nbconvert_exporter": "python",
   "pygments_lexer": "ipython3",
   "version": "3.11.10"
  }
 },
 "nbformat": 4,
 "nbformat_minor": 2
}
